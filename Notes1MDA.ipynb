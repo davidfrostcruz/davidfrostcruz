{
  "nbformat": 4,
  "nbformat_minor": 0,
  "metadata": {
    "colab": {
      "provenance": [],
      "toc_visible": true,
      "authorship_tag": "ABX9TyPtYVtYDvl8JupVrNLFBJs5",
      "include_colab_link": true
    },
    "kernelspec": {
      "name": "python3",
      "display_name": "Python 3"
    },
    "language_info": {
      "name": "python"
    }
  },
  "cells": [
    {
      "cell_type": "markdown",
      "metadata": {
        "id": "view-in-github",
        "colab_type": "text"
      },
      "source": [
        "<a href=\"https://colab.research.google.com/github/davidfrostcruz/davidfrostcruz/blob/main/Notes1MDA.ipynb\" target=\"_parent\"><img src=\"https://colab.research.google.com/assets/colab-badge.svg\" alt=\"Open In Colab\"/></a>"
      ]
    },
    {
      "cell_type": "code",
      "execution_count": null,
      "metadata": {
        "id": "8HrRcBDlOo0o"
      },
      "outputs": [],
      "source": [
        "import pandas as pd\n",
        "import numpy as np"
      ]
    },
    {
      "cell_type": "markdown",
      "source": [
        "It's very important to have into account the branches and the places from where you have obtained the code. Check for the dates and also read me file\n",
        "\n",
        "Also it's important to have all text from the code \n",
        "\n",
        "When doing Data Science you do:\n",
        "\n",
        "1. An array of models. \n",
        "2. Pipeline because you want to investigate which model is the best. \n",
        "3. You fit a model which is Model.fit(). A fit function\n",
        "4. You predict on data your model model.predict(). A predict Function\n",
        "\n",
        "In all SKLEARN models (the machine learning library on python)\n",
        "\n",
        "Everything in Python is an object. Object Oriented Programming is fundamental \n",
        "\n"
      ],
      "metadata": {
        "id": "mkS7ANlfSodl"
      }
    },
    {
      "cell_type": "markdown",
      "source": [
        "# Linear Regression Model as example\n",
        "\n"
      ],
      "metadata": {
        "id": "hf26JL34gazi"
      }
    },
    {
      "cell_type": "markdown",
      "source": [
        "<b>Linear Regression<b>\n"
      ],
      "metadata": {
        "id": "e_yVtwTCh2qH"
      }
    },
    {
      "cell_type": "code",
      "source": [],
      "metadata": {
        "id": "uJseeOMhhxIh"
      },
      "execution_count": null,
      "outputs": []
    }
  ]
}